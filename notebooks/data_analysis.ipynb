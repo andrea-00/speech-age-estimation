{
 "cells": [
  {
   "cell_type": "markdown",
   "id": "8ca5077f",
   "metadata": {},
   "source": [
    "# 1. Exploratory Data Analysis (EDA)\n",
    "\n",
    "**Objective:** In this notebook, we perform an initial analysis of the dataset. We explore the distribution of the target variable (age), check for data quality issues, and visualize audio features to gain insights that will inform our modeling strategy."
   ]
  }
 ],
 "metadata": {
  "language_info": {
   "name": "python"
  }
 },
 "nbformat": 4,
 "nbformat_minor": 5
}
